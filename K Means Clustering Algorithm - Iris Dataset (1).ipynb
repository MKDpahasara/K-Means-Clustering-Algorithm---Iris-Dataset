{
 "cells": [
  {
   "cell_type": "code",
   "execution_count": null,
   "id": "d40fafe0",
   "metadata": {},
   "outputs": [],
   "source": [
    "import pandas as pd\n",
    "import numpy as np"
   ]
  },
  {
   "cell_type": "code",
   "execution_count": null,
   "id": "ec62f5a3",
   "metadata": {},
   "outputs": [],
   "source": [
    "from sklearn import datasets\n",
    "iris = datasets.load_iris()"
   ]
  },
  {
   "cell_type": "code",
   "execution_count": null,
   "id": "e68f5df2",
   "metadata": {
    "scrolled": true
   },
   "outputs": [],
   "source": [
    "df = pd.DataFrame(data=iris.data, columns=iris.feature_names)"
   ]
  },
  {
   "cell_type": "code",
   "execution_count": null,
   "id": "7beb77b4",
   "metadata": {},
   "outputs": [],
   "source": [
    "df.head()"
   ]
  },
  {
   "cell_type": "code",
   "execution_count": null,
   "id": "06fc4e24",
   "metadata": {},
   "outputs": [],
   "source": [
    "data = df[['sepal length (cm)','sepal width (cm)']]\n",
    "data.head()"
   ]
  },
  {
   "cell_type": "markdown",
   "id": "4066ed7e",
   "metadata": {},
   "source": [
    "## min max scaler"
   ]
  },
  {
   "cell_type": "code",
   "execution_count": null,
   "id": "5051ca05",
   "metadata": {},
   "outputs": [],
   "source": [
    "from sklearn.preprocessing import MinMaxScaler\n",
    "scaler = MinMaxScaler()\n",
    "\n",
    "scaler.fit(data[['sepal length (cm)']])\n",
    "data[('sepal length (cm)')] = scaler.transform(data[['sepal length (cm)']])\n",
    "\n",
    "scaler.fit(data[['sepal width (cm)']])\n",
    "data[('sepal width (cm)')] = scaler.transform(data[['sepal width (cm)']])"
   ]
  },
  {
   "cell_type": "code",
   "execution_count": null,
   "id": "9651d72a",
   "metadata": {},
   "outputs": [],
   "source": [
    "data.head()"
   ]
  },
  {
   "cell_type": "code",
   "execution_count": null,
   "id": "b326d5a0",
   "metadata": {},
   "outputs": [],
   "source": [
    "import matplotlib.pyplot as plt\n",
    "plt.scatter(data['sepal length (cm)'],data['sepal width (cm)'])"
   ]
  },
  {
   "cell_type": "markdown",
   "id": "5b5c5743",
   "metadata": {},
   "source": [
    "## elbow method"
   ]
  },
  {
   "cell_type": "code",
   "execution_count": null,
   "id": "de869aeb",
   "metadata": {},
   "outputs": [],
   "source": [
    "from sklearn.cluster import KMeans\n",
    "k_values = range(1,10)\n",
    "wcss = []\n",
    "for k in k_values:\n",
    "    model = KMeans(n_clusters = k)\n",
    "    model.fit(data[['sepal length (cm)','sepal width (cm)']])\n",
    "    wcss.append(model.inertia_)"
   ]
  },
  {
   "cell_type": "code",
   "execution_count": null,
   "id": "98a9d558",
   "metadata": {},
   "outputs": [],
   "source": [
    "wcss"
   ]
  },
  {
   "cell_type": "code",
   "execution_count": null,
   "id": "2f032bd3",
   "metadata": {},
   "outputs": [],
   "source": [
    "plt.xlabel('Number of Clusters (K)')\n",
    "plt.ylabel('wcss error')\n",
    "plt.plot(k_values, wcss)"
   ]
  },
  {
   "cell_type": "markdown",
   "id": "12c93651",
   "metadata": {},
   "source": [
    "#### - best wcss error value is 3 -"
   ]
  },
  {
   "cell_type": "code",
   "execution_count": null,
   "id": "7a7ac33c",
   "metadata": {},
   "outputs": [],
   "source": [
    "model = KMeans(n_clusters=3)\n",
    "pred = model.fit_predict(data[['sepal length (cm)','sepal width (cm)']])"
   ]
  },
  {
   "cell_type": "code",
   "execution_count": null,
   "id": "8224b64a",
   "metadata": {},
   "outputs": [],
   "source": [
    "pred"
   ]
  },
  {
   "cell_type": "code",
   "execution_count": null,
   "id": "132cfce5",
   "metadata": {
    "scrolled": true
   },
   "outputs": [],
   "source": [
    "data['clusters'] = pred\n",
    "data.head()"
   ]
  },
  {
   "cell_type": "code",
   "execution_count": null,
   "id": "3c6b87c2",
   "metadata": {},
   "outputs": [],
   "source": [
    "model.cluster_centers_"
   ]
  },
  {
   "cell_type": "code",
   "execution_count": null,
   "id": "091f6c13",
   "metadata": {},
   "outputs": [],
   "source": [
    "c1 = data[data['clusters'] == 0]\n",
    "c2 = data[data['clusters'] == 1]\n",
    "c3 = data[data['clusters'] == 2]\n",
    "\n",
    "plt.scatter(c1['sepal length (cm)'],c1['sepal width (cm)'],color='blue')\n",
    "plt.scatter(c2['sepal length (cm)'],c2['sepal width (cm)'],color='green')\n",
    "plt.scatter(c3['sepal length (cm)'],c3['sepal width (cm)'],color='yellow')\n",
    "\n",
    "plt.scatter(model.cluster_centers_[:,0],model.cluster_centers_[:,1],color='black',marker='+')\n"
   ]
  },
  {
   "cell_type": "code",
   "execution_count": null,
   "id": "b4c78a3e",
   "metadata": {},
   "outputs": [],
   "source": []
  }
 ],
 "metadata": {
  "kernelspec": {
   "display_name": "Python 3 (ipykernel)",
   "language": "python",
   "name": "python3"
  },
  "language_info": {
   "codemirror_mode": {
    "name": "ipython",
    "version": 3
   },
   "file_extension": ".py",
   "mimetype": "text/x-python",
   "name": "python",
   "nbconvert_exporter": "python",
   "pygments_lexer": "ipython3",
   "version": "3.9.12"
  }
 },
 "nbformat": 4,
 "nbformat_minor": 5
}
